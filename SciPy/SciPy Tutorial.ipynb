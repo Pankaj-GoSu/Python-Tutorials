{
 "cells": [
  {
   "cell_type": "markdown",
   "source": [
    "# 1) Basic - Polynomial"
   ],
   "metadata": {}
  },
  {
   "cell_type": "code",
   "execution_count": 1,
   "source": [
    "from numpy import poly1d\r\n",
    "p = poly1d([3,6,8]) # pass list as a argument.\r\n",
    "print(p)"
   ],
   "outputs": [
    {
     "output_type": "stream",
     "name": "stdout",
     "text": [
      "   2\n",
      "3 x + 6 x + 8\n"
     ]
    }
   ],
   "metadata": {}
  },
  {
   "cell_type": "code",
   "execution_count": 2,
   "source": [
    "print(p*p) # multiplication of 2 polynomial."
   ],
   "outputs": [
    {
     "output_type": "stream",
     "name": "stdout",
     "text": [
      "   4      3      2\n",
      "9 x + 36 x + 84 x + 96 x + 64\n"
     ]
    }
   ],
   "metadata": {}
  },
  {
   "cell_type": "code",
   "execution_count": 3,
   "source": [
    "# Root of Perticular polynomial is:\r\n",
    "p.r #it give array of root."
   ],
   "outputs": [
    {
     "output_type": "execute_result",
     "data": {
      "text/plain": [
       "array([-1.+1.29099445j, -1.-1.29099445j])"
      ]
     },
     "metadata": {},
     "execution_count": 3
    }
   ],
   "metadata": {}
  },
  {
   "cell_type": "code",
   "execution_count": 4,
   "source": [
    "# Coefficients of p\r\n",
    "p # it give us only coefficient."
   ],
   "outputs": [
    {
     "output_type": "execute_result",
     "data": {
      "text/plain": [
       "poly1d([3, 6, 8])"
      ]
     },
     "metadata": {},
     "execution_count": 4
    }
   ],
   "metadata": {}
  },
  {
   "cell_type": "code",
   "execution_count": 5,
   "source": [
    "print(p)\r\n",
    "p1 = poly1d([1,2,3],variable=\"p\") # equation with variable as p.\r\n",
    "print(p1)"
   ],
   "outputs": [
    {
     "output_type": "stream",
     "name": "stdout",
     "text": [
      "   2\n",
      "3 x + 6 x + 8\n",
      "   2\n",
      "1 p + 2 p + 3\n"
     ]
    }
   ],
   "metadata": {}
  },
  {
   "cell_type": "code",
   "execution_count": 6,
   "source": [
    "# Integration of a Polynomial\r\n",
    "\r\n",
    "print(p.integ(k=6)) # k = indefinite integration constant here k is like constant in integration."
   ],
   "outputs": [
    {
     "output_type": "stream",
     "name": "stdout",
     "text": [
      "   3     2\n",
      "1 x + 3 x + 8 x + 6\n"
     ]
    }
   ],
   "metadata": {}
  },
  {
   "cell_type": "code",
   "execution_count": 7,
   "source": [
    "# Differentiation of a Polynomial.\r\n",
    "\r\n",
    "print(p.deriv())"
   ],
   "outputs": [
    {
     "output_type": "stream",
     "name": "stdout",
     "text": [
      " \n",
      "6 x + 6\n"
     ]
    }
   ],
   "metadata": {}
  },
  {
   "cell_type": "markdown",
   "source": [
    "# 2) Special Function(import scipy.special)"
   ],
   "metadata": {}
  },
  {
   "cell_type": "code",
   "execution_count": 8,
   "source": [
    "import scipy.special"
   ],
   "outputs": [],
   "metadata": {}
  },
  {
   "cell_type": "code",
   "execution_count": 9,
   "source": [
    "import numpy as np\r\n",
    "a = np.arange(1,11)\r\n",
    "a"
   ],
   "outputs": [
    {
     "output_type": "execute_result",
     "data": {
      "text/plain": [
       "array([ 1,  2,  3,  4,  5,  6,  7,  8,  9, 10])"
      ]
     },
     "metadata": {},
     "execution_count": 9
    }
   ],
   "metadata": {}
  },
  {
   "cell_type": "code",
   "execution_count": 10,
   "source": [
    "# For cube root of each element in array.\r\n",
    "scipy.special.cbrt(a)"
   ],
   "outputs": [
    {
     "output_type": "execute_result",
     "data": {
      "text/plain": [
       "array([1.        , 1.25992105, 1.44224957, 1.58740105, 1.70997595,\n",
       "       1.81712059, 1.91293118, 2.        , 2.08008382, 2.15443469])"
      ]
     },
     "metadata": {},
     "execution_count": 10
    }
   ],
   "metadata": {}
  },
  {
   "cell_type": "code",
   "execution_count": 11,
   "source": [
    "# Exponent of 10 (exp10()) \r\n",
    "x = 3\r\n",
    "scipy.special.exp10(x)"
   ],
   "outputs": [
    {
     "output_type": "execute_result",
     "data": {
      "text/plain": [
       "1000.0"
      ]
     },
     "metadata": {},
     "execution_count": 11
    }
   ],
   "metadata": {}
  },
  {
   "cell_type": "code",
   "execution_count": 12,
   "source": [
    "# Exponent of 2 (exp2())\r\n",
    "x = 3\r\n",
    "scipy.special.exp2(x)"
   ],
   "outputs": [
    {
     "output_type": "execute_result",
     "data": {
      "text/plain": [
       "8.0"
      ]
     },
     "metadata": {},
     "execution_count": 12
    }
   ],
   "metadata": {}
  },
  {
   "cell_type": "code",
   "execution_count": 13,
   "source": [
    "# Degree to  Radian (radian(d,m,s))\r\n",
    "d = 30 # degree\r\n",
    "m = 10 # minute\r\n",
    "s = 50 # seconds\r\n",
    "scipy.special.radian(d,m,s)\r\n",
    "\r\n"
   ],
   "outputs": [
    {
     "output_type": "execute_result",
     "data": {
      "text/plain": [
       "0.5267500645255109"
      ]
     },
     "metadata": {},
     "execution_count": 13
    }
   ],
   "metadata": {}
  },
  {
   "cell_type": "code",
   "execution_count": 14,
   "source": [
    "# Trignometric Functions (in degrees)\r\n",
    "print(\"sine of 30 degrees =\" , scipy.special.sindg(30))\r\n",
    "print(\"Cosine of 30 degrees =\" , scipy.special.cosdg(30))\r\n",
    "print(\"Tangent of 45 degrees =\" , scipy.special.tandg(45))"
   ],
   "outputs": [
    {
     "output_type": "stream",
     "name": "stdout",
     "text": [
      "sine of 30 degrees = 0.49999999999999994\n",
      "Cosine of 30 degrees = 0.8660254037844387\n",
      "Tangent of 45 degrees = 1.0\n"
     ]
    }
   ],
   "metadata": {}
  },
  {
   "cell_type": "code",
   "execution_count": 15,
   "source": [
    "# Permutations \r\n",
    "\r\n",
    "scipy.special.perm(5,2)  # we know 5P2 is 20. "
   ],
   "outputs": [
    {
     "output_type": "execute_result",
     "data": {
      "text/plain": [
       "20.0"
      ]
     },
     "metadata": {},
     "execution_count": 15
    }
   ],
   "metadata": {}
  },
  {
   "cell_type": "code",
   "execution_count": 16,
   "source": [
    "# Combination\r\n",
    "\r\n",
    "scipy.special.comb(5,2) # we know 5C2 is 10.\r\n"
   ],
   "outputs": [
    {
     "output_type": "execute_result",
     "data": {
      "text/plain": [
       "10.0"
      ]
     },
     "metadata": {},
     "execution_count": 16
    }
   ],
   "metadata": {}
  },
  {
   "cell_type": "markdown",
   "source": [
    "# 3) Integration (import scipy.integrate)"
   ],
   "metadata": {}
  },
  {
   "cell_type": "code",
   "execution_count": 17,
   "source": [
    "import scipy.integrate"
   ],
   "outputs": [],
   "metadata": {}
  },
  {
   "cell_type": "code",
   "execution_count": 18,
   "source": [
    "def f(x):\r\n",
    "    return x**2\r\n",
    "f(3)\r\n"
   ],
   "outputs": [
    {
     "output_type": "execute_result",
     "data": {
      "text/plain": [
       "9"
      ]
     },
     "metadata": {},
     "execution_count": 18
    }
   ],
   "metadata": {}
  },
  {
   "cell_type": "code",
   "execution_count": 19,
   "source": [
    "f = lambda x : x**2 # in lambda  function first we give argument then we give what will it do or return.\r\n",
    "f(3)\r\n",
    "    "
   ],
   "outputs": [
    {
     "output_type": "execute_result",
     "data": {
      "text/plain": [
       "9"
      ]
     },
     "metadata": {},
     "execution_count": 19
    }
   ],
   "metadata": {}
  },
  {
   "cell_type": "code",
   "execution_count": 20,
   "source": [
    "g = lambda x,y : x*y\r\n",
    "g(2,3)"
   ],
   "outputs": [
    {
     "output_type": "execute_result",
     "data": {
      "text/plain": [
       "6"
      ]
     },
     "metadata": {},
     "execution_count": 20
    }
   ],
   "metadata": {}
  },
  {
   "cell_type": "code",
   "execution_count": 21,
   "source": [
    "h = lambda x,y : x**2 + 2*x*y + y**2 # (x+y)^2\r\n",
    "h(1,2)"
   ],
   "outputs": [
    {
     "output_type": "execute_result",
     "data": {
      "text/plain": [
       "9"
      ]
     },
     "metadata": {},
     "execution_count": 21
    }
   ],
   "metadata": {}
  },
  {
   "cell_type": "code",
   "execution_count": 22,
   "source": [
    "# scipy.inregrate.quad(function,lower_limit,upper_limit)\r\n",
    "f = lambda x : x*2 # function is 2x.\r\n",
    "i = scipy.integrate.quad(f,1,2) # quad means simple integration. Single integration\r\n",
    "i\r\n"
   ],
   "outputs": [
    {
     "output_type": "execute_result",
     "data": {
      "text/plain": [
       "(3.0, 3.3306690738754696e-14)"
      ]
     },
     "metadata": {},
     "execution_count": 22
    }
   ],
   "metadata": {}
  },
  {
   "cell_type": "code",
   "execution_count": 23,
   "source": [
    "from numpy import exp\r\n",
    "f = lambda x : exp(-x**3)\r\n",
    "i = scipy.integrate.quad(f,1,4)\r\n",
    "i "
   ],
   "outputs": [
    {
     "output_type": "execute_result",
     "data": {
      "text/plain": [
       "(0.08546832942957776, 2.1640276156712023e-12)"
      ]
     },
     "metadata": {},
     "execution_count": 23
    }
   ],
   "metadata": {}
  },
  {
   "cell_type": "code",
   "execution_count": 24,
   "source": [
    "# Double Integration (used for area under curve)\r\n",
    "\r\n",
    "#scipy.integrate.dblquad(func,lower_limit,upper_limit,func2,func3)\r\n",
    "area = scipy.integrate.dblquad(lambda x,y :x*y , 0 , 0.5 , lambda x: 0, lambda y : 1-2*y)\r\n",
    "area"
   ],
   "outputs": [
    {
     "output_type": "execute_result",
     "data": {
      "text/plain": [
       "(0.010416666666666668, 4.101620128472366e-16)"
      ]
     },
     "metadata": {},
     "execution_count": 24
    }
   ],
   "metadata": {}
  },
  {
   "cell_type": "markdown",
   "source": [
    "# 4) Linear Algebra (import scipy.linalg)"
   ],
   "metadata": {}
  },
  {
   "cell_type": "code",
   "execution_count": 25,
   "source": [
    "from scipy import linalg\r\n"
   ],
   "outputs": [],
   "metadata": {}
  },
  {
   "cell_type": "code",
   "execution_count": 26,
   "source": [
    "import numpy as np\r\n"
   ],
   "outputs": [],
   "metadata": {}
  },
  {
   "cell_type": "code",
   "execution_count": 27,
   "source": [
    "a1 = np.array([[1,2],[3,4]])\r\n",
    "a1"
   ],
   "outputs": [
    {
     "output_type": "execute_result",
     "data": {
      "text/plain": [
       "array([[1, 2],\n",
       "       [3, 4]])"
      ]
     },
     "metadata": {},
     "execution_count": 27
    }
   ],
   "metadata": {}
  },
  {
   "cell_type": "code",
   "execution_count": 28,
   "source": [
    "# Determinant of matrix\r\n",
    "linalg.det(a1)"
   ],
   "outputs": [
    {
     "output_type": "execute_result",
     "data": {
      "text/plain": [
       "-2.0"
      ]
     },
     "metadata": {},
     "execution_count": 28
    }
   ],
   "metadata": {}
  },
  {
   "cell_type": "markdown",
   "source": [
    "**Compute pivoted LU decompostion of a matrix**"
   ],
   "metadata": {}
  },
  {
   "cell_type": "code",
   "execution_count": 29,
   "source": [
    "A = np.array([[1,2,3],[4,5,6],[7,8,9]])\r\n",
    "A"
   ],
   "outputs": [
    {
     "output_type": "execute_result",
     "data": {
      "text/plain": [
       "array([[1, 2, 3],\n",
       "       [4, 5, 6],\n",
       "       [7, 8, 9]])"
      ]
     },
     "metadata": {},
     "execution_count": 29
    }
   ],
   "metadata": {}
  },
  {
   "cell_type": "code",
   "execution_count": 30,
   "source": [
    "P,L,U = linalg.lu(A) # it return three matrix and we store these matrixs in P ,L and U."
   ],
   "outputs": [],
   "metadata": {}
  },
  {
   "cell_type": "code",
   "execution_count": 31,
   "source": [
    "P # It is permutation matrix"
   ],
   "outputs": [
    {
     "output_type": "execute_result",
     "data": {
      "text/plain": [
       "array([[0., 1., 0.],\n",
       "       [0., 0., 1.],\n",
       "       [1., 0., 0.]])"
      ]
     },
     "metadata": {},
     "execution_count": 31
    }
   ],
   "metadata": {}
  },
  {
   "cell_type": "code",
   "execution_count": 32,
   "source": [
    "L # lower triangular matrix with unit diagonal elements."
   ],
   "outputs": [
    {
     "output_type": "execute_result",
     "data": {
      "text/plain": [
       "array([[1.        , 0.        , 0.        ],\n",
       "       [0.14285714, 1.        , 0.        ],\n",
       "       [0.57142857, 0.5       , 1.        ]])"
      ]
     },
     "metadata": {},
     "execution_count": 32
    }
   ],
   "metadata": {}
  },
  {
   "cell_type": "code",
   "execution_count": 33,
   "source": [
    "U # upper triangular matrix."
   ],
   "outputs": [
    {
     "output_type": "execute_result",
     "data": {
      "text/plain": [
       "array([[7.        , 8.        , 9.        ],\n",
       "       [0.        , 0.85714286, 1.71428571],\n",
       "       [0.        , 0.        , 0.        ]])"
      ]
     },
     "metadata": {},
     "execution_count": 33
    }
   ],
   "metadata": {}
  },
  {
   "cell_type": "markdown",
   "source": [
    "**We Can find out the eigenvector and eigenvalues of a matrix**"
   ],
   "metadata": {}
  },
  {
   "cell_type": "code",
   "execution_count": 34,
   "source": [
    "EV,EW = linalg.eig(A) # it generate 2 array one for eigen values and other for eigen vector."
   ],
   "outputs": [],
   "metadata": {}
  },
  {
   "cell_type": "code",
   "execution_count": 35,
   "source": [
    "# Eigen Values\r\n",
    "EV"
   ],
   "outputs": [
    {
     "output_type": "execute_result",
     "data": {
      "text/plain": [
       "array([ 1.61168440e+01+0.j, -1.11684397e+00+0.j, -1.30367773e-15+0.j])"
      ]
     },
     "metadata": {},
     "execution_count": 35
    }
   ],
   "metadata": {}
  },
  {
   "cell_type": "code",
   "execution_count": 36,
   "source": [
    "# Eigen vector\r\n",
    "EW"
   ],
   "outputs": [
    {
     "output_type": "execute_result",
     "data": {
      "text/plain": [
       "array([[-0.23197069, -0.78583024,  0.40824829],\n",
       "       [-0.52532209, -0.08675134, -0.81649658],\n",
       "       [-0.8186735 ,  0.61232756,  0.40824829]])"
      ]
     },
     "metadata": {},
     "execution_count": 36
    }
   ],
   "metadata": {}
  },
  {
   "cell_type": "markdown",
   "source": [
    "**Solving systems of linear equations can also be done:**"
   ],
   "metadata": {}
  },
  {
   "cell_type": "code",
   "execution_count": 37,
   "source": [
    "A[2,2] = 8 \r\n",
    "A"
   ],
   "outputs": [
    {
     "output_type": "execute_result",
     "data": {
      "text/plain": [
       "array([[1, 2, 3],\n",
       "       [4, 5, 6],\n",
       "       [7, 8, 8]])"
      ]
     },
     "metadata": {},
     "execution_count": 37
    }
   ],
   "metadata": {}
  },
  {
   "cell_type": "code",
   "execution_count": 38,
   "source": [
    "B = np.array([[2],[3],[5]])\r\n",
    "B"
   ],
   "outputs": [
    {
     "output_type": "execute_result",
     "data": {
      "text/plain": [
       "array([[2],\n",
       "       [3],\n",
       "       [5]])"
      ]
     },
     "metadata": {},
     "execution_count": 38
    }
   ],
   "metadata": {}
  },
  {
   "cell_type": "code",
   "execution_count": 39,
   "source": [
    "# solve Linear Equation using Matrix (AX = B)\r\n",
    "# linalg.solve()\r\n",
    "\r\n",
    "X = linalg.solve(A,B)"
   ],
   "outputs": [],
   "metadata": {}
  },
  {
   "cell_type": "code",
   "execution_count": 40,
   "source": [
    "X "
   ],
   "outputs": [
    {
     "output_type": "execute_result",
     "data": {
      "text/plain": [
       "array([[-2.33333333],\n",
       "       [ 3.66666667],\n",
       "       [-1.        ]])"
      ]
     },
     "metadata": {},
     "execution_count": 40
    }
   ],
   "metadata": {}
  },
  {
   "cell_type": "markdown",
   "source": [
    "**Inverse of a matrix**"
   ],
   "metadata": {}
  },
  {
   "cell_type": "code",
   "execution_count": 41,
   "source": [
    "A = np.array([[1,3,5],[2,5,1],[2,3,8]])\r\n",
    "A"
   ],
   "outputs": [
    {
     "output_type": "execute_result",
     "data": {
      "text/plain": [
       "array([[1, 3, 5],\n",
       "       [2, 5, 1],\n",
       "       [2, 3, 8]])"
      ]
     },
     "metadata": {},
     "execution_count": 41
    }
   ],
   "metadata": {}
  },
  {
   "cell_type": "code",
   "execution_count": 42,
   "source": [
    "#Inverse : linalg.inv()\r\n",
    "linalg.inv(A)"
   ],
   "outputs": [
    {
     "output_type": "execute_result",
     "data": {
      "text/plain": [
       "array([[-1.48,  0.36,  0.88],\n",
       "       [ 0.56,  0.08, -0.36],\n",
       "       [ 0.16, -0.12,  0.04]])"
      ]
     },
     "metadata": {},
     "execution_count": 42
    }
   ],
   "metadata": {}
  },
  {
   "cell_type": "code",
   "execution_count": 44,
   "source": [
    "#Cross Check\r\n",
    "# A * inv(A) = I\r\n",
    "I = A.dot(linalg.inv(A))\r\n",
    "print(np.around(I)) # it give integer value or it around the value to a integer."
   ],
   "outputs": [
    {
     "output_type": "stream",
     "name": "stdout",
     "text": [
      "[[ 1. -0.  0.]\n",
      " [ 0.  1.  0.]\n",
      " [ 0. -0.  1.]]\n"
     ]
    }
   ],
   "metadata": {}
  },
  {
   "cell_type": "markdown",
   "source": [
    "# 5) Fourier Transform(import scipy.fftpack)\n",
    "\n",
    "**The Fourier Transform shows that any waveform can be re-written as the sum of sinusoidal functions**\n",
    "\n",
    "**fft : Fast Fourier Transformation**\n",
    "\n",
    "**ifft : Inverse Fast Fourier Transformation**"
   ],
   "metadata": {}
  },
  {
   "cell_type": "code",
   "execution_count": 45,
   "source": [
    "import scipy.fftpack"
   ],
   "outputs": [],
   "metadata": {}
  },
  {
   "cell_type": "code",
   "execution_count": 47,
   "source": [
    "import numpy as np \r\n",
    "a = np.array([1,5,6,14,25,40])\r\n",
    "a"
   ],
   "outputs": [
    {
     "output_type": "execute_result",
     "data": {
      "text/plain": [
       "array([ 1,  5,  6, 14, 25, 40])"
      ]
     },
     "metadata": {},
     "execution_count": 47
    }
   ],
   "metadata": {}
  },
  {
   "cell_type": "code",
   "execution_count": 48,
   "source": [
    "# Fourier Transformation\r\n",
    "y = scipy.fftpack.fft(a)\r\n",
    "y"
   ],
   "outputs": [
    {
     "output_type": "execute_result",
     "data": {
      "text/plain": [
       "array([ 91. -0.j        ,  -6.+46.7653718j , -23.+13.85640646j,\n",
       "       -27. -0.j        , -23.-13.85640646j,  -6.-46.7653718j ])"
      ]
     },
     "metadata": {},
     "execution_count": 48
    }
   ],
   "metadata": {}
  },
  {
   "cell_type": "code",
   "execution_count": 50,
   "source": [
    "# Inverse Fourier Transformation\r\n",
    "invy = scipy.fftpack.ifft(a)\r\n",
    "invy"
   ],
   "outputs": [
    {
     "output_type": "execute_result",
     "data": {
      "text/plain": [
       "array([15.16666667-0.j        , -1.        -7.79422863j,\n",
       "       -3.83333333-2.30940108j, -4.5       -0.j        ,\n",
       "       -3.83333333+2.30940108j, -1.        +7.79422863j])"
      ]
     },
     "metadata": {},
     "execution_count": 50
    }
   ],
   "metadata": {}
  },
  {
   "cell_type": "code",
   "execution_count": 52,
   "source": [
    "# Cross Verifiaction\n",
    "i = scipy.fftpack.fft(invy)\n",
    "print(i)\n",
    "a"
   ],
   "outputs": [
    {
     "output_type": "stream",
     "name": "stdout",
     "text": [
      "[ 1.+0.j  5.+0.j  6.-0.j 14.+0.j 25.+0.j 40.+0.j]\n"
     ]
    },
    {
     "output_type": "execute_result",
     "data": {
      "text/plain": [
       "array([ 1,  5,  6, 14, 25, 40])"
      ]
     },
     "metadata": {},
     "execution_count": 52
    }
   ],
   "metadata": {}
  },
  {
   "cell_type": "markdown",
   "source": [
    "# 6) Interpolation (import scipy.interpolate)\n",
    "\n",
    "**Interpolation is a type of estimation , a method of constructing new data points whithin the range of a discrete set of known data points**"
   ],
   "metadata": {}
  },
  {
   "cell_type": "code",
   "execution_count": 54,
   "source": [
    "from scipy.interpolate import interp1d\r\n",
    "import numpy as np\r\n"
   ],
   "outputs": [],
   "metadata": {}
  },
  {
   "cell_type": "markdown",
   "source": [
    "# 7) Statistics (import scipy.stats)\n"
   ],
   "metadata": {}
  },
  {
   "cell_type": "code",
   "execution_count": 55,
   "source": [
    "from scipy.stats import norm"
   ],
   "outputs": [],
   "metadata": {}
  },
  {
   "cell_type": "code",
   "execution_count": 56,
   "source": [
    "# this gives you a numpy array with 500 elements\r\n",
    "# ranomely valued according to the standard normal distribution (mean = 0 ,std =1)\r\n",
    "x_norm = norm.rvs(size = 500)            # rvs --> Random Variates\r\n",
    "print(type(x_norm))"
   ],
   "outputs": [
    {
     "output_type": "stream",
     "name": "stdout",
     "text": [
      "<class 'numpy.ndarray'>\n"
     ]
    }
   ],
   "metadata": {}
  },
  {
   "cell_type": "code",
   "execution_count": 65,
   "source": [
    "x_norm.mean() , x_norm.std() , x_norm.var()"
   ],
   "outputs": [
    {
     "output_type": "execute_result",
     "data": {
      "text/plain": [
       "(-0.030194342847694747, 0.9982850726687306, 0.9965730863132127)"
      ]
     },
     "metadata": {},
     "execution_count": 65
    }
   ],
   "metadata": {}
  },
  {
   "cell_type": "code",
   "execution_count": 66,
   "source": [
    "# CDF : Continous Distribution Function\r\n",
    "z = np.array([1,-1,0,1,3,4,-2,6])\r\n",
    "norm.cdf(z)"
   ],
   "outputs": [
    {
     "output_type": "execute_result",
     "data": {
      "text/plain": [
       "array([0.84134475, 0.15865525, 0.5       , 0.84134475, 0.9986501 ,\n",
       "       0.99996833, 0.02275013, 1.        ])"
      ]
     },
     "metadata": {},
     "execution_count": 66
    }
   ],
   "metadata": {}
  },
  {
   "cell_type": "code",
   "execution_count": 68,
   "source": [
    "# PPF : Percent point function\r\n",
    "# It is reverse of CDF\r\n",
    "norm.ppf(0.5) # it return the element of array whose cdf is 0.5 ."
   ],
   "outputs": [
    {
     "output_type": "execute_result",
     "data": {
      "text/plain": [
       "0.0"
      ]
     },
     "metadata": {},
     "execution_count": 68
    }
   ],
   "metadata": {}
  },
  {
   "cell_type": "code",
   "execution_count": 69,
   "source": [
    "x = np.array([1,2,3,4,5,6,7,8,9])\r\n",
    "print(x.max(),x.min(),x.mean(),x.var(),sep=\",\")"
   ],
   "outputs": [
    {
     "output_type": "stream",
     "name": "stdout",
     "text": [
      "9,1,5.0,6.666666666666667\n"
     ]
    }
   ],
   "metadata": {}
  },
  {
   "cell_type": "code",
   "execution_count": 71,
   "source": [
    "# Geometric Mean\r\n",
    "from scipy.stats.mstats import gmean\r\n",
    "g = gmean([1,2,4])\r\n",
    "print(\"Geometric Mean is :\" , g)\r\n",
    "\r\n"
   ],
   "outputs": [
    {
     "output_type": "stream",
     "name": "stdout",
     "text": [
      "Geometric Mean is : 2.0\n"
     ]
    }
   ],
   "metadata": {}
  },
  {
   "cell_type": "code",
   "execution_count": 72,
   "source": [
    "# Harmonic Mean\r\n",
    "from scipy.stats.mstats import hmean\r\n",
    "h = hmean([1,5,20])\r\n",
    "print(\"Harmonic Mean is :\", h)"
   ],
   "outputs": [
    {
     "output_type": "stream",
     "name": "stdout",
     "text": [
      "Harmonic Mean is : 2.4\n"
     ]
    }
   ],
   "metadata": {}
  },
  {
   "cell_type": "code",
   "execution_count": 75,
   "source": [
    "# Mode\r\n",
    "from scipy import stats\r\n",
    "arr1 = np.array([1,3,15,11,9,9,9,3])\r\n",
    "print(\"Arithmetic mode is :\", stats.mode(arr1))\r\n"
   ],
   "outputs": [
    {
     "output_type": "stream",
     "name": "stdout",
     "text": [
      "Arithmetic mode is : ModeResult(mode=array([9]), count=array([3]))\n"
     ]
    }
   ],
   "metadata": {}
  },
  {
   "cell_type": "code",
   "execution_count": 76,
   "source": [
    "#Z-Score\r\n",
    "arr1 = [20,2,7,1,25]\r\n",
    "print(\"Z-score for arr1\",stats.zscore(arr1))"
   ],
   "outputs": [
    {
     "output_type": "stream",
     "name": "stdout",
     "text": [
      "Z-score for arr1 [ 0.92435403 -0.92435403 -0.41082402 -1.02706004  1.43788405]\n"
     ]
    }
   ],
   "metadata": {}
  },
  {
   "cell_type": "code",
   "execution_count": 77,
   "source": [
    "scipy.constants.find() # this will give us constants which are used in scientific calculations"
   ],
   "outputs": [
    {
     "output_type": "execute_result",
     "data": {
      "text/plain": [
       "['Angstrom star',\n",
       " 'Avogadro constant',\n",
       " 'Bohr magneton',\n",
       " 'Bohr magneton in Hz/T',\n",
       " 'Bohr magneton in K/T',\n",
       " 'Bohr magneton in eV/T',\n",
       " 'Bohr magneton in inverse meter per tesla',\n",
       " 'Bohr radius',\n",
       " 'Boltzmann constant',\n",
       " 'Boltzmann constant in Hz/K',\n",
       " 'Boltzmann constant in eV/K',\n",
       " 'Boltzmann constant in inverse meter per kelvin',\n",
       " 'Compton wavelength',\n",
       " 'Cu x unit',\n",
       " 'Faraday constant',\n",
       " 'Fermi coupling constant',\n",
       " 'Hartree energy',\n",
       " 'Hartree energy in eV',\n",
       " 'Josephson constant',\n",
       " 'Loschmidt constant (273.15 K, 100 kPa)',\n",
       " 'Loschmidt constant (273.15 K, 101.325 kPa)',\n",
       " 'Mo x unit',\n",
       " 'Newtonian constant of gravitation',\n",
       " 'Newtonian constant of gravitation over h-bar c',\n",
       " 'Planck constant',\n",
       " 'Planck constant in eV/Hz',\n",
       " 'Planck length',\n",
       " 'Planck mass',\n",
       " 'Planck mass energy equivalent in GeV',\n",
       " 'Planck temperature',\n",
       " 'Planck time',\n",
       " 'Rydberg constant',\n",
       " 'Rydberg constant times c in Hz',\n",
       " 'Rydberg constant times hc in J',\n",
       " 'Rydberg constant times hc in eV',\n",
       " 'Sackur-Tetrode constant (1 K, 100 kPa)',\n",
       " 'Sackur-Tetrode constant (1 K, 101.325 kPa)',\n",
       " 'Stefan-Boltzmann constant',\n",
       " 'Thomson cross section',\n",
       " 'W to Z mass ratio',\n",
       " 'Wien frequency displacement law constant',\n",
       " 'Wien wavelength displacement law constant',\n",
       " 'alpha particle mass',\n",
       " 'alpha particle mass energy equivalent',\n",
       " 'alpha particle mass energy equivalent in MeV',\n",
       " 'alpha particle mass in u',\n",
       " 'alpha particle molar mass',\n",
       " 'alpha particle relative atomic mass',\n",
       " 'alpha particle-electron mass ratio',\n",
       " 'alpha particle-proton mass ratio',\n",
       " 'atomic mass constant',\n",
       " 'atomic mass constant energy equivalent',\n",
       " 'atomic mass constant energy equivalent in MeV',\n",
       " 'atomic mass unit-electron volt relationship',\n",
       " 'atomic mass unit-hartree relationship',\n",
       " 'atomic mass unit-hertz relationship',\n",
       " 'atomic mass unit-inverse meter relationship',\n",
       " 'atomic mass unit-joule relationship',\n",
       " 'atomic mass unit-kelvin relationship',\n",
       " 'atomic mass unit-kilogram relationship',\n",
       " 'atomic unit of 1st hyperpolarizability',\n",
       " 'atomic unit of 2nd hyperpolarizability',\n",
       " 'atomic unit of action',\n",
       " 'atomic unit of charge',\n",
       " 'atomic unit of charge density',\n",
       " 'atomic unit of current',\n",
       " 'atomic unit of electric dipole mom.',\n",
       " 'atomic unit of electric field',\n",
       " 'atomic unit of electric field gradient',\n",
       " 'atomic unit of electric polarizability',\n",
       " 'atomic unit of electric potential',\n",
       " 'atomic unit of electric quadrupole mom.',\n",
       " 'atomic unit of energy',\n",
       " 'atomic unit of force',\n",
       " 'atomic unit of length',\n",
       " 'atomic unit of mag. dipole mom.',\n",
       " 'atomic unit of mag. flux density',\n",
       " 'atomic unit of magnetizability',\n",
       " 'atomic unit of mass',\n",
       " 'atomic unit of momentum',\n",
       " 'atomic unit of permittivity',\n",
       " 'atomic unit of time',\n",
       " 'atomic unit of velocity',\n",
       " 'classical electron radius',\n",
       " 'conductance quantum',\n",
       " 'conventional value of Josephson constant',\n",
       " 'conventional value of ampere-90',\n",
       " 'conventional value of coulomb-90',\n",
       " 'conventional value of farad-90',\n",
       " 'conventional value of henry-90',\n",
       " 'conventional value of ohm-90',\n",
       " 'conventional value of volt-90',\n",
       " 'conventional value of von Klitzing constant',\n",
       " 'conventional value of watt-90',\n",
       " 'deuteron g factor',\n",
       " 'deuteron mag. mom.',\n",
       " 'deuteron mag. mom. to Bohr magneton ratio',\n",
       " 'deuteron mag. mom. to nuclear magneton ratio',\n",
       " 'deuteron mass',\n",
       " 'deuteron mass energy equivalent',\n",
       " 'deuteron mass energy equivalent in MeV',\n",
       " 'deuteron mass in u',\n",
       " 'deuteron molar mass',\n",
       " 'deuteron relative atomic mass',\n",
       " 'deuteron rms charge radius',\n",
       " 'deuteron-electron mag. mom. ratio',\n",
       " 'deuteron-electron mass ratio',\n",
       " 'deuteron-neutron mag. mom. ratio',\n",
       " 'deuteron-proton mag. mom. ratio',\n",
       " 'deuteron-proton mass ratio',\n",
       " 'electron charge to mass quotient',\n",
       " 'electron g factor',\n",
       " 'electron gyromag. ratio',\n",
       " 'electron gyromag. ratio in MHz/T',\n",
       " 'electron mag. mom.',\n",
       " 'electron mag. mom. anomaly',\n",
       " 'electron mag. mom. to Bohr magneton ratio',\n",
       " 'electron mag. mom. to nuclear magneton ratio',\n",
       " 'electron mass',\n",
       " 'electron mass energy equivalent',\n",
       " 'electron mass energy equivalent in MeV',\n",
       " 'electron mass in u',\n",
       " 'electron molar mass',\n",
       " 'electron relative atomic mass',\n",
       " 'electron to alpha particle mass ratio',\n",
       " 'electron to shielded helion mag. mom. ratio',\n",
       " 'electron to shielded proton mag. mom. ratio',\n",
       " 'electron volt',\n",
       " 'electron volt-atomic mass unit relationship',\n",
       " 'electron volt-hartree relationship',\n",
       " 'electron volt-hertz relationship',\n",
       " 'electron volt-inverse meter relationship',\n",
       " 'electron volt-joule relationship',\n",
       " 'electron volt-kelvin relationship',\n",
       " 'electron volt-kilogram relationship',\n",
       " 'electron-deuteron mag. mom. ratio',\n",
       " 'electron-deuteron mass ratio',\n",
       " 'electron-helion mass ratio',\n",
       " 'electron-muon mag. mom. ratio',\n",
       " 'electron-muon mass ratio',\n",
       " 'electron-neutron mag. mom. ratio',\n",
       " 'electron-neutron mass ratio',\n",
       " 'electron-proton mag. mom. ratio',\n",
       " 'electron-proton mass ratio',\n",
       " 'electron-tau mass ratio',\n",
       " 'electron-triton mass ratio',\n",
       " 'elementary charge',\n",
       " 'elementary charge over h-bar',\n",
       " 'fine-structure constant',\n",
       " 'first radiation constant',\n",
       " 'first radiation constant for spectral radiance',\n",
       " 'hartree-atomic mass unit relationship',\n",
       " 'hartree-electron volt relationship',\n",
       " 'hartree-hertz relationship',\n",
       " 'hartree-inverse meter relationship',\n",
       " 'hartree-joule relationship',\n",
       " 'hartree-kelvin relationship',\n",
       " 'hartree-kilogram relationship',\n",
       " 'helion g factor',\n",
       " 'helion mag. mom.',\n",
       " 'helion mag. mom. to Bohr magneton ratio',\n",
       " 'helion mag. mom. to nuclear magneton ratio',\n",
       " 'helion mass',\n",
       " 'helion mass energy equivalent',\n",
       " 'helion mass energy equivalent in MeV',\n",
       " 'helion mass in u',\n",
       " 'helion molar mass',\n",
       " 'helion relative atomic mass',\n",
       " 'helion shielding shift',\n",
       " 'helion-electron mass ratio',\n",
       " 'helion-proton mass ratio',\n",
       " 'hertz-atomic mass unit relationship',\n",
       " 'hertz-electron volt relationship',\n",
       " 'hertz-hartree relationship',\n",
       " 'hertz-inverse meter relationship',\n",
       " 'hertz-joule relationship',\n",
       " 'hertz-kelvin relationship',\n",
       " 'hertz-kilogram relationship',\n",
       " 'hyperfine transition frequency of Cs-133',\n",
       " 'inverse fine-structure constant',\n",
       " 'inverse meter-atomic mass unit relationship',\n",
       " 'inverse meter-electron volt relationship',\n",
       " 'inverse meter-hartree relationship',\n",
       " 'inverse meter-hertz relationship',\n",
       " 'inverse meter-joule relationship',\n",
       " 'inverse meter-kelvin relationship',\n",
       " 'inverse meter-kilogram relationship',\n",
       " 'inverse of conductance quantum',\n",
       " 'joule-atomic mass unit relationship',\n",
       " 'joule-electron volt relationship',\n",
       " 'joule-hartree relationship',\n",
       " 'joule-hertz relationship',\n",
       " 'joule-inverse meter relationship',\n",
       " 'joule-kelvin relationship',\n",
       " 'joule-kilogram relationship',\n",
       " 'kelvin-atomic mass unit relationship',\n",
       " 'kelvin-electron volt relationship',\n",
       " 'kelvin-hartree relationship',\n",
       " 'kelvin-hertz relationship',\n",
       " 'kelvin-inverse meter relationship',\n",
       " 'kelvin-joule relationship',\n",
       " 'kelvin-kilogram relationship',\n",
       " 'kilogram-atomic mass unit relationship',\n",
       " 'kilogram-electron volt relationship',\n",
       " 'kilogram-hartree relationship',\n",
       " 'kilogram-hertz relationship',\n",
       " 'kilogram-inverse meter relationship',\n",
       " 'kilogram-joule relationship',\n",
       " 'kilogram-kelvin relationship',\n",
       " 'lattice parameter of silicon',\n",
       " 'lattice spacing of ideal Si (220)',\n",
       " 'luminous efficacy',\n",
       " 'mag. flux quantum',\n",
       " 'molar Planck constant',\n",
       " 'molar gas constant',\n",
       " 'molar mass constant',\n",
       " 'molar mass of carbon-12',\n",
       " 'molar volume of ideal gas (273.15 K, 100 kPa)',\n",
       " 'molar volume of ideal gas (273.15 K, 101.325 kPa)',\n",
       " 'molar volume of silicon',\n",
       " 'muon Compton wavelength',\n",
       " 'muon g factor',\n",
       " 'muon mag. mom.',\n",
       " 'muon mag. mom. anomaly',\n",
       " 'muon mag. mom. to Bohr magneton ratio',\n",
       " 'muon mag. mom. to nuclear magneton ratio',\n",
       " 'muon mass',\n",
       " 'muon mass energy equivalent',\n",
       " 'muon mass energy equivalent in MeV',\n",
       " 'muon mass in u',\n",
       " 'muon molar mass',\n",
       " 'muon-electron mass ratio',\n",
       " 'muon-neutron mass ratio',\n",
       " 'muon-proton mag. mom. ratio',\n",
       " 'muon-proton mass ratio',\n",
       " 'muon-tau mass ratio',\n",
       " 'natural unit of action',\n",
       " 'natural unit of action in eV s',\n",
       " 'natural unit of energy',\n",
       " 'natural unit of energy in MeV',\n",
       " 'natural unit of length',\n",
       " 'natural unit of mass',\n",
       " 'natural unit of momentum',\n",
       " 'natural unit of momentum in MeV/c',\n",
       " 'natural unit of time',\n",
       " 'natural unit of velocity',\n",
       " 'neutron Compton wavelength',\n",
       " 'neutron g factor',\n",
       " 'neutron gyromag. ratio',\n",
       " 'neutron gyromag. ratio in MHz/T',\n",
       " 'neutron mag. mom.',\n",
       " 'neutron mag. mom. to Bohr magneton ratio',\n",
       " 'neutron mag. mom. to nuclear magneton ratio',\n",
       " 'neutron mass',\n",
       " 'neutron mass energy equivalent',\n",
       " 'neutron mass energy equivalent in MeV',\n",
       " 'neutron mass in u',\n",
       " 'neutron molar mass',\n",
       " 'neutron relative atomic mass',\n",
       " 'neutron to shielded proton mag. mom. ratio',\n",
       " 'neutron-electron mag. mom. ratio',\n",
       " 'neutron-electron mass ratio',\n",
       " 'neutron-muon mass ratio',\n",
       " 'neutron-proton mag. mom. ratio',\n",
       " 'neutron-proton mass difference',\n",
       " 'neutron-proton mass difference energy equivalent',\n",
       " 'neutron-proton mass difference energy equivalent in MeV',\n",
       " 'neutron-proton mass difference in u',\n",
       " 'neutron-proton mass ratio',\n",
       " 'neutron-tau mass ratio',\n",
       " 'nuclear magneton',\n",
       " 'nuclear magneton in K/T',\n",
       " 'nuclear magneton in MHz/T',\n",
       " 'nuclear magneton in eV/T',\n",
       " 'nuclear magneton in inverse meter per tesla',\n",
       " 'proton Compton wavelength',\n",
       " 'proton charge to mass quotient',\n",
       " 'proton g factor',\n",
       " 'proton gyromag. ratio',\n",
       " 'proton gyromag. ratio in MHz/T',\n",
       " 'proton mag. mom.',\n",
       " 'proton mag. mom. to Bohr magneton ratio',\n",
       " 'proton mag. mom. to nuclear magneton ratio',\n",
       " 'proton mag. shielding correction',\n",
       " 'proton mass',\n",
       " 'proton mass energy equivalent',\n",
       " 'proton mass energy equivalent in MeV',\n",
       " 'proton mass in u',\n",
       " 'proton molar mass',\n",
       " 'proton relative atomic mass',\n",
       " 'proton rms charge radius',\n",
       " 'proton-electron mass ratio',\n",
       " 'proton-muon mass ratio',\n",
       " 'proton-neutron mag. mom. ratio',\n",
       " 'proton-neutron mass ratio',\n",
       " 'proton-tau mass ratio',\n",
       " 'quantum of circulation',\n",
       " 'quantum of circulation times 2',\n",
       " 'reduced Compton wavelength',\n",
       " 'reduced Planck constant',\n",
       " 'reduced Planck constant in eV s',\n",
       " 'reduced Planck constant times c in MeV fm',\n",
       " 'reduced muon Compton wavelength',\n",
       " 'reduced neutron Compton wavelength',\n",
       " 'reduced proton Compton wavelength',\n",
       " 'reduced tau Compton wavelength',\n",
       " 'second radiation constant',\n",
       " 'shielded helion gyromag. ratio',\n",
       " 'shielded helion gyromag. ratio in MHz/T',\n",
       " 'shielded helion mag. mom.',\n",
       " 'shielded helion mag. mom. to Bohr magneton ratio',\n",
       " 'shielded helion mag. mom. to nuclear magneton ratio',\n",
       " 'shielded helion to proton mag. mom. ratio',\n",
       " 'shielded helion to shielded proton mag. mom. ratio',\n",
       " 'shielded proton gyromag. ratio',\n",
       " 'shielded proton gyromag. ratio in MHz/T',\n",
       " 'shielded proton mag. mom.',\n",
       " 'shielded proton mag. mom. to Bohr magneton ratio',\n",
       " 'shielded proton mag. mom. to nuclear magneton ratio',\n",
       " 'shielding difference of d and p in HD',\n",
       " 'shielding difference of t and p in HT',\n",
       " 'speed of light in vacuum',\n",
       " 'standard acceleration of gravity',\n",
       " 'standard atmosphere',\n",
       " 'standard-state pressure',\n",
       " 'tau Compton wavelength',\n",
       " 'tau energy equivalent',\n",
       " 'tau mass',\n",
       " 'tau mass energy equivalent',\n",
       " 'tau mass in u',\n",
       " 'tau molar mass',\n",
       " 'tau-electron mass ratio',\n",
       " 'tau-muon mass ratio',\n",
       " 'tau-neutron mass ratio',\n",
       " 'tau-proton mass ratio',\n",
       " 'triton g factor',\n",
       " 'triton mag. mom.',\n",
       " 'triton mag. mom. to Bohr magneton ratio',\n",
       " 'triton mag. mom. to nuclear magneton ratio',\n",
       " 'triton mass',\n",
       " 'triton mass energy equivalent',\n",
       " 'triton mass energy equivalent in MeV',\n",
       " 'triton mass in u',\n",
       " 'triton molar mass',\n",
       " 'triton relative atomic mass',\n",
       " 'triton to proton mag. mom. ratio',\n",
       " 'triton-electron mass ratio',\n",
       " 'triton-proton mass ratio',\n",
       " 'unified atomic mass unit',\n",
       " 'vacuum electric permittivity',\n",
       " 'vacuum mag. permeability',\n",
       " 'von Klitzing constant',\n",
       " 'weak mixing angle']"
      ]
     },
     "metadata": {},
     "execution_count": 77
    }
   ],
   "metadata": {}
  },
  {
   "cell_type": "code",
   "execution_count": null,
   "source": [],
   "outputs": [],
   "metadata": {}
  }
 ],
 "metadata": {
  "kernelspec": {
   "display_name": "Python 3 (ipykernel)",
   "language": "python",
   "name": "python3"
  },
  "language_info": {
   "codemirror_mode": {
    "name": "ipython",
    "version": 3
   },
   "file_extension": ".py",
   "mimetype": "text/x-python",
   "name": "python",
   "nbconvert_exporter": "python",
   "pygments_lexer": "ipython3",
   "version": "3.9.5"
  }
 },
 "nbformat": 4,
 "nbformat_minor": 5
}