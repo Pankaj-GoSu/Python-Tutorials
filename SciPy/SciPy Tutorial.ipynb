{
 "cells": [
  {
   "cell_type": "markdown",
   "id": "f336cbbe",
   "metadata": {},
   "source": [
    "# 1) Basic - Polynomial"
   ]
  },
  {
   "cell_type": "code",
   "execution_count": 4,
   "id": "ee988b53",
   "metadata": {},
   "outputs": [
    {
     "name": "stdout",
     "output_type": "stream",
     "text": [
      "   2\n",
      "3 x + 6 x + 8\n"
     ]
    }
   ],
   "source": [
    "from numpy import poly1d\n",
    "p = poly1d([3,6,8]) # pass list as a argument.\n",
    "print(p)"
   ]
  },
  {
   "cell_type": "code",
   "execution_count": 5,
   "id": "8677f8cd",
   "metadata": {},
   "outputs": [
    {
     "name": "stdout",
     "output_type": "stream",
     "text": [
      "   4      3      2\n",
      "9 x + 36 x + 84 x + 96 x + 64\n"
     ]
    }
   ],
   "source": [
    "print(p*p) # multiplication of 2 polynomial."
   ]
  },
  {
   "cell_type": "code",
   "execution_count": 6,
   "id": "74ce862c",
   "metadata": {},
   "outputs": [
    {
     "data": {
      "text/plain": [
       "array([-1.+1.29099445j, -1.-1.29099445j])"
      ]
     },
     "execution_count": 6,
     "metadata": {},
     "output_type": "execute_result"
    }
   ],
   "source": [
    "# Root of Perticular polynomial is:\n",
    "p.r #it give array of root."
   ]
  },
  {
   "cell_type": "code",
   "execution_count": 8,
   "id": "38a2c19e",
   "metadata": {},
   "outputs": [
    {
     "data": {
      "text/plain": [
       "poly1d([3, 6, 8])"
      ]
     },
     "execution_count": 8,
     "metadata": {},
     "output_type": "execute_result"
    }
   ],
   "source": [
    "# Coefficients of p\n",
    "p # it give us only coefficient."
   ]
  },
  {
   "cell_type": "code",
   "execution_count": 9,
   "id": "64473aa5",
   "metadata": {},
   "outputs": [
    {
     "name": "stdout",
     "output_type": "stream",
     "text": [
      "   2\n",
      "3 x + 6 x + 8\n",
      "   2\n",
      "1 p + 2 p + 3\n"
     ]
    }
   ],
   "source": [
    "print(p)\n",
    "p1 = poly1d([1,2,3],variable=\"p\") # equation with variable as p.\n",
    "print(p1)"
   ]
  },
  {
   "cell_type": "code",
   "execution_count": 10,
   "id": "e74ab8c6",
   "metadata": {},
   "outputs": [
    {
     "name": "stdout",
     "output_type": "stream",
     "text": [
      "   3     2\n",
      "1 x + 3 x + 8 x + 6\n"
     ]
    }
   ],
   "source": [
    "# Integration of a Polynomial\n",
    "\n",
    "print(p.integ(k=6)) # k = indefinite integration constant here k is like constant in integration."
   ]
  },
  {
   "cell_type": "code",
   "execution_count": 11,
   "id": "0c9d9247",
   "metadata": {},
   "outputs": [
    {
     "name": "stdout",
     "output_type": "stream",
     "text": [
      " \n",
      "6 x + 6\n"
     ]
    }
   ],
   "source": [
    "# Differentiation of a Polynomial.\n",
    "\n",
    "print(p.deriv())"
   ]
  },
  {
   "cell_type": "markdown",
   "id": "075be537",
   "metadata": {},
   "source": [
    "# 2) Special Function(import scipy.special)"
   ]
  },
  {
   "cell_type": "code",
   "execution_count": 12,
   "id": "9d1e2c0b",
   "metadata": {},
   "outputs": [],
   "source": [
    "import scipy.special"
   ]
  },
  {
   "cell_type": "code",
   "execution_count": 13,
   "id": "0b1c61d7",
   "metadata": {},
   "outputs": [
    {
     "data": {
      "text/plain": [
       "array([ 1,  2,  3,  4,  5,  6,  7,  8,  9, 10])"
      ]
     },
     "execution_count": 13,
     "metadata": {},
     "output_type": "execute_result"
    }
   ],
   "source": [
    "import numpy as np\n",
    "a = np.arange(1,11)\n",
    "a"
   ]
  },
  {
   "cell_type": "code",
   "execution_count": 14,
   "id": "d402ae5a",
   "metadata": {},
   "outputs": [
    {
     "data": {
      "text/plain": [
       "array([1.        , 1.25992105, 1.44224957, 1.58740105, 1.70997595,\n",
       "       1.81712059, 1.91293118, 2.        , 2.08008382, 2.15443469])"
      ]
     },
     "execution_count": 14,
     "metadata": {},
     "output_type": "execute_result"
    }
   ],
   "source": [
    "# For cube root of each element in array.\n",
    "scipy.special.cbrt(a)"
   ]
  },
  {
   "cell_type": "code",
   "execution_count": 15,
   "id": "3ab2e234",
   "metadata": {},
   "outputs": [
    {
     "data": {
      "text/plain": [
       "1000.0"
      ]
     },
     "execution_count": 15,
     "metadata": {},
     "output_type": "execute_result"
    }
   ],
   "source": [
    "# Exponent of 10 (exp10()) \n",
    "x = 3\n",
    "scipy.special.exp10(x)"
   ]
  },
  {
   "cell_type": "code",
   "execution_count": 16,
   "id": "04f98cc2",
   "metadata": {},
   "outputs": [
    {
     "data": {
      "text/plain": [
       "8.0"
      ]
     },
     "execution_count": 16,
     "metadata": {},
     "output_type": "execute_result"
    }
   ],
   "source": [
    "# Exponent of 2 (exp2())\n",
    "x = 3\n",
    "scipy.special.exp2(x)"
   ]
  },
  {
   "cell_type": "code",
   "execution_count": 17,
   "id": "6679b43b",
   "metadata": {},
   "outputs": [
    {
     "data": {
      "text/plain": [
       "0.5267500645255109"
      ]
     },
     "execution_count": 17,
     "metadata": {},
     "output_type": "execute_result"
    }
   ],
   "source": [
    "# Degree to  Radian (radian(d,m,s))\n",
    "d = 30 # degree\n",
    "m = 10 # minute\n",
    "s = 50 # seconds\n",
    "scipy.special.radian(d,m,s)\n",
    "\n"
   ]
  },
  {
   "cell_type": "code",
   "execution_count": 19,
   "id": "a03ec4d8",
   "metadata": {},
   "outputs": [
    {
     "name": "stdout",
     "output_type": "stream",
     "text": [
      "sine of 30 degrees = 0.49999999999999994\n",
      "Cosine of 30 degrees = 0.8660254037844387\n",
      "Tangent of 45 degrees = 1.0\n"
     ]
    }
   ],
   "source": [
    "# Trignometric Functions (in degrees)\n",
    "print(\"sine of 30 degrees =\" , scipy.special.sindg(30))\n",
    "print(\"Cosine of 30 degrees =\" , scipy.special.cosdg(30))\n",
    "print(\"Tangent of 45 degrees =\" , scipy.special.tandg(45))"
   ]
  },
  {
   "cell_type": "code",
   "execution_count": 21,
   "id": "27d85f2f",
   "metadata": {},
   "outputs": [
    {
     "data": {
      "text/plain": [
       "20.0"
      ]
     },
     "execution_count": 21,
     "metadata": {},
     "output_type": "execute_result"
    }
   ],
   "source": [
    "# Permutations \n",
    "\n",
    "scipy.special.perm(5,2)  # we know 5P2 is 20. "
   ]
  },
  {
   "cell_type": "code",
   "execution_count": 22,
   "id": "043c24d0",
   "metadata": {},
   "outputs": [
    {
     "data": {
      "text/plain": [
       "10.0"
      ]
     },
     "execution_count": 22,
     "metadata": {},
     "output_type": "execute_result"
    }
   ],
   "source": [
    "# Combination\n",
    "\n",
    "scipy.special.comb(5,2) # we know 5C2 is 10.\n"
   ]
  },
  {
   "cell_type": "markdown",
   "id": "9dba98b3",
   "metadata": {},
   "source": [
    "# 3) Integration (import scipy.integrate)"
   ]
  },
  {
   "cell_type": "code",
   "execution_count": 23,
   "id": "b9a76edc",
   "metadata": {},
   "outputs": [],
   "source": [
    "import scipy.integrate"
   ]
  },
  {
   "cell_type": "code",
   "execution_count": 24,
   "id": "fd751a24",
   "metadata": {},
   "outputs": [
    {
     "data": {
      "text/plain": [
       "9"
      ]
     },
     "execution_count": 24,
     "metadata": {},
     "output_type": "execute_result"
    }
   ],
   "source": [
    "def f(x):\n",
    "    return x**2\n",
    "f(3)\n"
   ]
  },
  {
   "cell_type": "code",
   "execution_count": 25,
   "id": "211b6cb7",
   "metadata": {},
   "outputs": [
    {
     "data": {
      "text/plain": [
       "9"
      ]
     },
     "execution_count": 25,
     "metadata": {},
     "output_type": "execute_result"
    }
   ],
   "source": [
    "f = lambda x : x**2 # in lambda  function first we give argument then we give what will it do or return.\n",
    "f(3)\n",
    "    "
   ]
  },
  {
   "cell_type": "code",
   "execution_count": 26,
   "id": "13dc10a9",
   "metadata": {},
   "outputs": [
    {
     "data": {
      "text/plain": [
       "6"
      ]
     },
     "execution_count": 26,
     "metadata": {},
     "output_type": "execute_result"
    }
   ],
   "source": [
    "g = lambda x,y : x*y\n",
    "g(2,3)"
   ]
  },
  {
   "cell_type": "code",
   "execution_count": 27,
   "id": "38bea3ed",
   "metadata": {},
   "outputs": [
    {
     "data": {
      "text/plain": [
       "9"
      ]
     },
     "execution_count": 27,
     "metadata": {},
     "output_type": "execute_result"
    }
   ],
   "source": [
    "h = lambda x,y : x**2 + 2*x*y + y**2 # (x+y)^2\n",
    "h(1,2)"
   ]
  },
  {
   "cell_type": "code",
   "execution_count": 30,
   "id": "b78e47da",
   "metadata": {},
   "outputs": [
    {
     "data": {
      "text/plain": [
       "(3.0, 3.3306690738754696e-14)"
      ]
     },
     "execution_count": 30,
     "metadata": {},
     "output_type": "execute_result"
    }
   ],
   "source": [
    "# scipy.inregrate.quad(function,lower_limit,upper_limit)\n",
    "f = lambda x : x*2 # function is 2x.\n",
    "i = scipy.integrate.quad(f,1,2) # quad means simple integration. Single integration\n",
    "i\n"
   ]
  },
  {
   "cell_type": "code",
   "execution_count": 31,
   "id": "656f1016",
   "metadata": {},
   "outputs": [
    {
     "data": {
      "text/plain": [
       "(0.08546832942957776, 2.1640276156712023e-12)"
      ]
     },
     "execution_count": 31,
     "metadata": {},
     "output_type": "execute_result"
    }
   ],
   "source": [
    "from numpy import exp\n",
    "f = lambda x : exp(-x**3)\n",
    "i = scipy.integrate.quad(f,1,4)\n",
    "i "
   ]
  },
  {
   "cell_type": "code",
   "execution_count": 32,
   "id": "28e37b5b",
   "metadata": {},
   "outputs": [
    {
     "data": {
      "text/plain": [
       "(0.010416666666666668, 4.101620128472366e-16)"
      ]
     },
     "execution_count": 32,
     "metadata": {},
     "output_type": "execute_result"
    }
   ],
   "source": [
    "# Double Integration (used for area under curve)\n",
    "\n",
    "#scipy.integrate.dblquad(func,lower_limit,upper_limit,func2,func3)\n",
    "area = scipy.integrate.dblquad(lambda x,y :x*y , 0 , 0.5 , lambda x: 0, lambda y : 1-2*y)\n",
    "area"
   ]
  },
  {
   "cell_type": "markdown",
   "id": "0a713a80",
   "metadata": {},
   "source": [
    "# 4) Linear Algebra (import scipy.linalg)"
   ]
  },
  {
   "cell_type": "code",
   "execution_count": 34,
   "id": "3f4262ae",
   "metadata": {},
   "outputs": [],
   "source": [
    "from scipy import linalg\n"
   ]
  },
  {
   "cell_type": "code",
   "execution_count": 35,
   "id": "d97e96a0",
   "metadata": {},
   "outputs": [],
   "source": [
    "import numpy as np\n"
   ]
  },
  {
   "cell_type": "code",
   "execution_count": 37,
   "id": "95f865d2",
   "metadata": {},
   "outputs": [
    {
     "data": {
      "text/plain": [
       "array([[1, 2],\n",
       "       [3, 4]])"
      ]
     },
     "execution_count": 37,
     "metadata": {},
     "output_type": "execute_result"
    }
   ],
   "source": [
    "a1 = np.array([[1,2],[3,4]])\n",
    "a1"
   ]
  },
  {
   "cell_type": "code",
   "execution_count": 38,
   "id": "0ac8023b",
   "metadata": {},
   "outputs": [
    {
     "data": {
      "text/plain": [
       "-2.0"
      ]
     },
     "execution_count": 38,
     "metadata": {},
     "output_type": "execute_result"
    }
   ],
   "source": [
    "# Determinant of matrix\n",
    "linalg.det(a1)"
   ]
  },
  {
   "cell_type": "markdown",
   "id": "0dce22b1",
   "metadata": {},
   "source": [
    "**Compute pivoted LU decompostion of a matrix**"
   ]
  },
  {
   "cell_type": "code",
   "execution_count": 40,
   "id": "5b5ec4cb",
   "metadata": {},
   "outputs": [
    {
     "data": {
      "text/plain": [
       "array([[1, 2, 3],\n",
       "       [4, 5, 6],\n",
       "       [7, 8, 9]])"
      ]
     },
     "execution_count": 40,
     "metadata": {},
     "output_type": "execute_result"
    }
   ],
   "source": [
    "A = np.array([[1,2,3],[4,5,6],[7,8,9]])\n",
    "A"
   ]
  },
  {
   "cell_type": "code",
   "execution_count": 41,
   "id": "0ded03c1",
   "metadata": {},
   "outputs": [],
   "source": [
    "P,L,U = linalg.lu(A) # it return three matrix and we store these matrixs in P ,L and U."
   ]
  },
  {
   "cell_type": "code",
   "execution_count": 42,
   "id": "95812ecc",
   "metadata": {},
   "outputs": [
    {
     "data": {
      "text/plain": [
       "array([[0., 1., 0.],\n",
       "       [0., 0., 1.],\n",
       "       [1., 0., 0.]])"
      ]
     },
     "execution_count": 42,
     "metadata": {},
     "output_type": "execute_result"
    }
   ],
   "source": [
    "P # It is permutation matrix"
   ]
  },
  {
   "cell_type": "code",
   "execution_count": 43,
   "id": "fcb1e517",
   "metadata": {},
   "outputs": [
    {
     "data": {
      "text/plain": [
       "array([[1.        , 0.        , 0.        ],\n",
       "       [0.14285714, 1.        , 0.        ],\n",
       "       [0.57142857, 0.5       , 1.        ]])"
      ]
     },
     "execution_count": 43,
     "metadata": {},
     "output_type": "execute_result"
    }
   ],
   "source": [
    "L # lower triangular matrix with unit diagonal elements."
   ]
  },
  {
   "cell_type": "code",
   "execution_count": 44,
   "id": "f26aa30b",
   "metadata": {},
   "outputs": [
    {
     "data": {
      "text/plain": [
       "array([[7.        , 8.        , 9.        ],\n",
       "       [0.        , 0.85714286, 1.71428571],\n",
       "       [0.        , 0.        , 0.        ]])"
      ]
     },
     "execution_count": 44,
     "metadata": {},
     "output_type": "execute_result"
    }
   ],
   "source": [
    "U # upper triangular matrix."
   ]
  },
  {
   "cell_type": "markdown",
   "id": "66bd6f27",
   "metadata": {},
   "source": [
    "**We Can find out the eigenvector and eigenvalues of a matrix**"
   ]
  },
  {
   "cell_type": "code",
   "execution_count": 45,
   "id": "b3b3d34b",
   "metadata": {},
   "outputs": [],
   "source": [
    "EV,EW = linalg.eig(A) # it generate 2 array one for eigen values and other for eigen vector."
   ]
  },
  {
   "cell_type": "code",
   "execution_count": 47,
   "id": "c023683a",
   "metadata": {},
   "outputs": [
    {
     "data": {
      "text/plain": [
       "array([ 1.61168440e+01+0.j, -1.11684397e+00+0.j, -1.30367773e-15+0.j])"
      ]
     },
     "execution_count": 47,
     "metadata": {},
     "output_type": "execute_result"
    }
   ],
   "source": [
    "# Eigen Values\n",
    "EV"
   ]
  },
  {
   "cell_type": "code",
   "execution_count": 48,
   "id": "f4e7a5a4",
   "metadata": {},
   "outputs": [
    {
     "data": {
      "text/plain": [
       "array([[-0.23197069, -0.78583024,  0.40824829],\n",
       "       [-0.52532209, -0.08675134, -0.81649658],\n",
       "       [-0.8186735 ,  0.61232756,  0.40824829]])"
      ]
     },
     "execution_count": 48,
     "metadata": {},
     "output_type": "execute_result"
    }
   ],
   "source": [
    "# Eigen vector\n",
    "EW"
   ]
  },
  {
   "cell_type": "markdown",
   "id": "75224bb8",
   "metadata": {},
   "source": [
    "**Solving systems of linear equations can also be done:**"
   ]
  },
  {
   "cell_type": "code",
   "execution_count": 57,
   "id": "cc063a0d",
   "metadata": {},
   "outputs": [
    {
     "data": {
      "text/plain": [
       "array([[1, 2, 3],\n",
       "       [4, 5, 6],\n",
       "       [7, 8, 8]])"
      ]
     },
     "execution_count": 57,
     "metadata": {},
     "output_type": "execute_result"
    }
   ],
   "source": [
    "A[2,2] = 8 \n",
    "A"
   ]
  },
  {
   "cell_type": "code",
   "execution_count": 53,
   "id": "1db42f50",
   "metadata": {},
   "outputs": [
    {
     "data": {
      "text/plain": [
       "array([[2],\n",
       "       [3],\n",
       "       [5]])"
      ]
     },
     "execution_count": 53,
     "metadata": {},
     "output_type": "execute_result"
    }
   ],
   "source": [
    "B = np.array([[2],[3],[5]])\n",
    "B"
   ]
  },
  {
   "cell_type": "code",
   "execution_count": 58,
   "id": "011c1eaf",
   "metadata": {},
   "outputs": [],
   "source": [
    "# solve Linear Equation using Matrix (AX = B)\n",
    "# linalg.solve()\n",
    "\n",
    "X = linalg.solve(A,B)"
   ]
  },
  {
   "cell_type": "code",
   "execution_count": 59,
   "id": "4967c6d3",
   "metadata": {},
   "outputs": [
    {
     "data": {
      "text/plain": [
       "array([[-2.33333333],\n",
       "       [ 3.66666667],\n",
       "       [-1.        ]])"
      ]
     },
     "execution_count": 59,
     "metadata": {},
     "output_type": "execute_result"
    }
   ],
   "source": [
    "X "
   ]
  },
  {
   "cell_type": "code",
   "execution_count": null,
   "id": "218c5d5c",
   "metadata": {},
   "outputs": [],
   "source": []
  }
 ],
 "metadata": {
  "kernelspec": {
   "display_name": "Python 3 (ipykernel)",
   "language": "python",
   "name": "python3"
  },
  "language_info": {
   "codemirror_mode": {
    "name": "ipython",
    "version": 3
   },
   "file_extension": ".py",
   "mimetype": "text/x-python",
   "name": "python",
   "nbconvert_exporter": "python",
   "pygments_lexer": "ipython3",
   "version": "3.9.5"
  }
 },
 "nbformat": 4,
 "nbformat_minor": 5
}
